{
  "nbformat": 4,
  "nbformat_minor": 0,
  "metadata": {
    "colab": {
      "provenance": [],
      "authorship_tag": "ABX9TyMK9u0vRWlDSUN8KeI01933",
      "include_colab_link": true
    },
    "kernelspec": {
      "name": "python3",
      "display_name": "Python 3"
    },
    "language_info": {
      "name": "python"
    }
  },
  "cells": [
    {
      "cell_type": "markdown",
      "metadata": {
        "id": "view-in-github",
        "colab_type": "text"
      },
      "source": [
        "<a href=\"https://colab.research.google.com/github/NisargPipaliya/learn-python/blob/master/Python_practice.ipynb\" target=\"_parent\"><img src=\"https://colab.research.google.com/assets/colab-badge.svg\" alt=\"Open In Colab\"/></a>"
      ]
    },
    {
      "cell_type": "code",
      "execution_count": 1,
      "metadata": {
        "colab": {
          "base_uri": "https://localhost:8080/"
        },
        "id": "hSOoitnPLqap",
        "outputId": "ea4d7ac3-3130-43da-9925-e29b92a1ce1f"
      },
      "outputs": [
        {
          "output_type": "execute_result",
          "data": {
            "text/plain": [
              "21"
            ]
          },
          "metadata": {},
          "execution_count": 1
        }
      ],
      "source": [
        "1+2+3+\\\n",
        "4+5+\\\n",
        "6"
      ]
    },
    {
      "cell_type": "code",
      "source": [
        "a=1+2+\\\n",
        "3+\\\n",
        "4"
      ],
      "metadata": {
        "id": "3PKT2M4BLzBM"
      },
      "execution_count": 2,
      "outputs": []
    },
    {
      "cell_type": "code",
      "source": [
        "print(a)"
      ],
      "metadata": {
        "colab": {
          "base_uri": "https://localhost:8080/"
        },
        "id": "Chh3F_4fL425",
        "outputId": "a7625bde-78f7-4f27-c71d-0b1e9bce37ee"
      },
      "execution_count": 3,
      "outputs": [
        {
          "output_type": "stream",
          "name": "stdout",
          "text": [
            "10\n"
          ]
        }
      ]
    },
    {
      "cell_type": "code",
      "source": [
        "def func():\n",
        "    pass #just ignoring the body of function\n",
        "func()\n"
      ],
      "metadata": {
        "id": "ba0Dd8MBL6k0"
      },
      "execution_count": 5,
      "outputs": []
    },
    {
      "cell_type": "code",
      "source": [
        "def func():\n",
        "    print(\"HELLO WORLD\")\n",
        "func()"
      ],
      "metadata": {
        "colab": {
          "base_uri": "https://localhost:8080/"
        },
        "id": "jLxPMNNwdBtb",
        "outputId": "760b5764-ad06-42a2-994d-ca8f278d123e"
      },
      "execution_count": 6,
      "outputs": [
        {
          "output_type": "stream",
          "name": "stdout",
          "text": [
            "HELLO WORLD\n"
          ]
        }
      ]
    },
    {
      "cell_type": "code",
      "source": [
        "# Use of PASS and COUNTINUE\n",
        "for i in 'program':\n",
        "    if i=='r':\n",
        "      pass  #it means that NO OPERATION. JUST SKIP THIS LINE\n",
        "      print('This is pass block')\n",
        "    print(f'Current Letter : {i}')\n",
        "print(\"Good Bye\")"
      ],
      "metadata": {
        "colab": {
          "base_uri": "https://localhost:8080/"
        },
        "id": "Oy3uhMr5dNFQ",
        "outputId": "a8c5e288-e5bb-4164-cdae-994d2c4d6225"
      },
      "execution_count": 9,
      "outputs": [
        {
          "output_type": "stream",
          "name": "stdout",
          "text": [
            "Current Letter : p\n",
            "This is pass block\n",
            "Current Letter : r\n",
            "Current Letter : o\n",
            "Current Letter : g\n",
            "This is pass block\n",
            "Current Letter : r\n",
            "Current Letter : a\n",
            "Current Letter : m\n",
            "Good Bye\n"
          ]
        }
      ]
    },
    {
      "cell_type": "code",
      "source": [
        "# Use of PASS and COUNTINUE\n",
        "for i in 'program':\n",
        "    if i=='r':\n",
        "      continue  # it means that skip the code below this\n",
        "      # line and continue with next iteration\n",
        "      print('This is pass block')\n",
        "    print(f'Current Letter : {i}')\n",
        "print(\"Good Bye\")"
      ],
      "metadata": {
        "colab": {
          "base_uri": "https://localhost:8080/"
        },
        "id": "eECvnAGed_td",
        "outputId": "5007ff0c-6b7e-4a91-ba8d-e9013fe388bc"
      },
      "execution_count": 10,
      "outputs": [
        {
          "output_type": "stream",
          "name": "stdout",
          "text": [
            "Current Letter : p\n",
            "Current Letter : o\n",
            "Current Letter : g\n",
            "Current Letter : a\n",
            "Current Letter : m\n",
            "Good Bye\n"
          ]
        }
      ]
    },
    {
      "cell_type": "code",
      "source": [
        "for i in range(5): #for loop version one\n",
        "      print(\"Hello\")"
      ],
      "metadata": {
        "colab": {
          "base_uri": "https://localhost:8080/"
        },
        "id": "b-ENnW8XgqFa",
        "outputId": "e102804c-d545-4c63-acff-ed480dd1e213"
      },
      "execution_count": 11,
      "outputs": [
        {
          "output_type": "stream",
          "name": "stdout",
          "text": [
            "Hello\n",
            "Hello\n",
            "Hello\n",
            "Hello\n",
            "Hello\n"
          ]
        }
      ]
    },
    {
      "cell_type": "code",
      "source": [
        "#version 2\n",
        "for i in range(2,8,3): # start from 2 till 8 (i.e. last value will be 7 and increase by 3 everytime)\n",
        "    print(f\"Hello-> {i}\")"
      ],
      "metadata": {
        "colab": {
          "base_uri": "https://localhost:8080/"
        },
        "id": "LwJAjq84hxGs",
        "outputId": "f043ba8e-ccf4-41fe-8534-2caa5aec3b5d"
      },
      "execution_count": 13,
      "outputs": [
        {
          "output_type": "stream",
          "name": "stdout",
          "text": [
            "Hello-> 2\n",
            "Hello-> 5\n"
          ]
        }
      ]
    },
    {
      "cell_type": "code",
      "source": [
        "#version 3\n",
        "for i in \"nisarg\": # it iterates over each letter in the given string\n",
        "            # similar to auto in c++\n",
        "    print(i)"
      ],
      "metadata": {
        "colab": {
          "base_uri": "https://localhost:8080/"
        },
        "id": "ZfV0J5MViGXJ",
        "outputId": "f185da63-f821-4e3d-9ba1-2ec24779096d"
      },
      "execution_count": 14,
      "outputs": [
        {
          "output_type": "stream",
          "name": "stdout",
          "text": [
            "n\n",
            "i\n",
            "s\n",
            "a\n",
            "r\n",
            "g\n"
          ]
        }
      ]
    },
    {
      "cell_type": "code",
      "source": [
        "for i in [2,3,1,5,8,493,7]:\n",
        "    print(i)"
      ],
      "metadata": {
        "colab": {
          "base_uri": "https://localhost:8080/"
        },
        "id": "mCUfKIgEiSSa",
        "outputId": "8f17541f-81f7-4dd3-fcca-0667f32c86ca"
      },
      "execution_count": 15,
      "outputs": [
        {
          "output_type": "stream",
          "name": "stdout",
          "text": [
            "2\n",
            "3\n",
            "1\n",
            "5\n",
            "8\n",
            "493\n",
            "7\n"
          ]
        }
      ]
    },
    {
      "cell_type": "code",
      "source": [
        "print(list(range(11))) # printing 0 to 10"
      ],
      "metadata": {
        "colab": {
          "base_uri": "https://localhost:8080/"
        },
        "id": "lBtWQwikkJhA",
        "outputId": "2f4dc517-c9e5-41e4-d6f6-a94049cd88f9"
      },
      "execution_count": 16,
      "outputs": [
        {
          "output_type": "stream",
          "name": "stdout",
          "text": [
            "[0, 1, 2, 3, 4, 5, 6, 7, 8, 9, 10]\n"
          ]
        }
      ]
    },
    {
      "cell_type": "code",
      "source": [
        "print(list(range(4,8)))# list values in list are muttable \n",
        "#can be accessed by index"
      ],
      "metadata": {
        "colab": {
          "base_uri": "https://localhost:8080/"
        },
        "id": "OsTpVqS3kasj",
        "outputId": "b224fc28-681c-4627-a47e-ac7381af516b"
      },
      "execution_count": 17,
      "outputs": [
        {
          "output_type": "stream",
          "name": "stdout",
          "text": [
            "[4, 5, 6, 7]\n"
          ]
        }
      ]
    },
    {
      "cell_type": "code",
      "source": [
        "tup=(1,2,3,5,6)#tupple values in tupple are immutable\n",
        "#can be accessed by index\n",
        "print(tup)"
      ],
      "metadata": {
        "colab": {
          "base_uri": "https://localhost:8080/"
        },
        "id": "zXLWzHErkgUZ",
        "outputId": "b8523304-08a2-49ea-a757-2f996321f4f6"
      },
      "execution_count": 18,
      "outputs": [
        {
          "output_type": "stream",
          "name": "stdout",
          "text": [
            "(1, 2, 3, 5, 6)\n"
          ]
        }
      ]
    },
    {
      "cell_type": "code",
      "source": [
        "se={1,2,3,4,5,6,7,544444,345}# set contains unique elements \n",
        "#cannot access the elements using index\n",
        "#as the element are not in the same order as they are inserted\n",
        "#{1, 2, 3, 4, 5, 6, 7, 345, 544444} -> above set when printed"
      ],
      "metadata": {
        "id": "QBidQ7MHkkBl"
      },
      "execution_count": 20,
      "outputs": []
    },
    {
      "cell_type": "code",
      "source": [
        "print(se)"
      ],
      "metadata": {
        "colab": {
          "base_uri": "https://localhost:8080/"
        },
        "id": "BnEXAYDolFKE",
        "outputId": "0419ab6d-6386-463d-ab2c-4b01a22bcb03"
      },
      "execution_count": 21,
      "outputs": [
        {
          "output_type": "stream",
          "name": "stdout",
          "text": [
            "{1, 2, 3, 4, 5, 6, 7, 345, 544444}\n"
          ]
        }
      ]
    },
    {
      "cell_type": "code",
      "source": [
        "for i in range(5):\n",
        "  for j in range(5):\n",
        "      print(i,end=\" \")\n",
        "  print()\n"
      ],
      "metadata": {
        "colab": {
          "base_uri": "https://localhost:8080/"
        },
        "id": "fANsDLVplWZk",
        "outputId": "47900654-4843-42b1-ccf5-f7ca344e3c3e"
      },
      "execution_count": 22,
      "outputs": [
        {
          "output_type": "stream",
          "name": "stdout",
          "text": [
            "0 0 0 0 0 \n",
            "1 1 1 1 1 \n",
            "2 2 2 2 2 \n",
            "3 3 3 3 3 \n",
            "4 4 4 4 4 \n"
          ]
        }
      ]
    },
    {
      "cell_type": "code",
      "source": [
        "for i in range(5):\n",
        "  for j in range(i):\n",
        "      print(i,end=\" \")\n",
        "  print()\n"
      ],
      "metadata": {
        "colab": {
          "base_uri": "https://localhost:8080/"
        },
        "id": "8xKtdaLClu8U",
        "outputId": "da86821b-4158-4ee2-95a8-d1958a7c9c08"
      },
      "execution_count": 25,
      "outputs": [
        {
          "output_type": "stream",
          "name": "stdout",
          "text": [
            "\n",
            "1 \n",
            "2 2 \n",
            "3 3 3 \n",
            "4 4 4 4 \n"
          ]
        }
      ]
    },
    {
      "cell_type": "code",
      "source": [
        "for i in range(5):\n",
        "  for j in range(5-i):\n",
        "      print(i,end=\" \")\n",
        "      \"\"\"\n",
        "      is this a multiline comment?\n",
        "      \"\"\"\n",
        "  print()\n"
      ],
      "metadata": {
        "colab": {
          "base_uri": "https://localhost:8080/"
        },
        "id": "K50p2uvHlz3l",
        "outputId": "09010ea3-6451-48d5-8b9b-0c0cb281e373"
      },
      "execution_count": 30,
      "outputs": [
        {
          "output_type": "stream",
          "name": "stdout",
          "text": [
            "0 0 0 0 0 \n",
            "1 1 1 1 \n",
            "2 2 2 \n",
            "3 3 \n",
            "4 \n"
          ]
        }
      ]
    },
    {
      "cell_type": "code",
      "source": [
        "\"\"\"\n",
        "is this a multiline comment?\n",
        "\"\"\"\n",
        "#Different kind of functions"
      ],
      "metadata": {
        "colab": {
          "base_uri": "https://localhost:8080/",
          "height": 35
        },
        "id": "BEGNaLaWl51w",
        "outputId": "bf7a2343-2ab6-4c40-883f-ce3a97822379"
      },
      "execution_count": 26,
      "outputs": [
        {
          "output_type": "execute_result",
          "data": {
            "text/plain": [
              "'\\nis this a multiline comment?\\n'"
            ],
            "application/vnd.google.colaboratory.intrinsic+json": {
              "type": "string"
            }
          },
          "metadata": {},
          "execution_count": 26
        }
      ]
    },
    {
      "cell_type": "code",
      "source": [
        "abs(5-10)"
      ],
      "metadata": {
        "colab": {
          "base_uri": "https://localhost:8080/"
        },
        "id": "25gVgGx5miOZ",
        "outputId": "04b4736f-fc69-4a51-d99e-3e477b25f546"
      },
      "execution_count": 31,
      "outputs": [
        {
          "output_type": "execute_result",
          "data": {
            "text/plain": [
              "5"
            ]
          },
          "metadata": {},
          "execution_count": 31
        }
      ]
    },
    {
      "cell_type": "code",
      "source": [
        "bool(5==3)"
      ],
      "metadata": {
        "colab": {
          "base_uri": "https://localhost:8080/"
        },
        "id": "rkOYILMPnA4j",
        "outputId": "617d35f0-8121-48d1-e81c-55022937d61a"
      },
      "execution_count": 34,
      "outputs": [
        {
          "output_type": "execute_result",
          "data": {
            "text/plain": [
              "False"
            ]
          },
          "metadata": {},
          "execution_count": 34
        }
      ]
    },
    {
      "cell_type": "code",
      "source": [
        "help()"
      ],
      "metadata": {
        "id": "H7adZd6_nDEw"
      },
      "execution_count": null,
      "outputs": []
    },
    {
      "cell_type": "code",
      "source": [
        "input(\"enter your goal:\")"
      ],
      "metadata": {
        "colab": {
          "base_uri": "https://localhost:8080/",
          "height": 52
        },
        "id": "hwHaucPdnFH9",
        "outputId": "044c80a5-3037-4673-d401-8361dcd6a09b"
      },
      "execution_count": 35,
      "outputs": [
        {
          "name": "stdout",
          "output_type": "stream",
          "text": [
            "enter your goal:Be GreatFull\n"
          ]
        },
        {
          "output_type": "execute_result",
          "data": {
            "text/plain": [
              "'Be GreatFull'"
            ],
            "application/vnd.google.colaboratory.intrinsic+json": {
              "type": "string"
            }
          },
          "metadata": {},
          "execution_count": 35
        }
      ]
    },
    {
      "cell_type": "code",
      "source": [
        "a=int(6.9)"
      ],
      "metadata": {
        "id": "-R0K1Ry_nV2T"
      },
      "execution_count": 36,
      "outputs": []
    },
    {
      "cell_type": "code",
      "source": [
        "b=str(7)\n",
        "print(type(b))"
      ],
      "metadata": {
        "colab": {
          "base_uri": "https://localhost:8080/"
        },
        "id": "53B0RiBvnekb",
        "outputId": "f4c8be57-ba44-4770-f6e7-5bee8ba6b86a"
      },
      "execution_count": 37,
      "outputs": [
        {
          "output_type": "stream",
          "name": "stdout",
          "text": [
            "<class 'str'>\n"
          ]
        }
      ]
    },
    {
      "cell_type": "code",
      "source": [
        "name=\"nisarg\"\n",
        "print(len(name))"
      ],
      "metadata": {
        "colab": {
          "base_uri": "https://localhost:8080/"
        },
        "id": "lW842PS3nj1A",
        "outputId": "ade656ac-2f79-4ad2-9221-5789beafdb0e"
      },
      "execution_count": 38,
      "outputs": [
        {
          "output_type": "stream",
          "name": "stdout",
          "text": [
            "6\n"
          ]
        }
      ]
    },
    {
      "cell_type": "code",
      "source": [
        "#list\n",
        "li=[8,9,7,6,5,4,3,2,1]\n",
        "print(min(li))"
      ],
      "metadata": {
        "colab": {
          "base_uri": "https://localhost:8080/"
        },
        "id": "OuPzS3HHnrYm",
        "outputId": "07e1ec5f-d7f5-40db-b7b8-bfe10dc95dc4"
      },
      "execution_count": 39,
      "outputs": [
        {
          "output_type": "stream",
          "name": "stdout",
          "text": [
            "1\n"
          ]
        }
      ]
    },
    {
      "cell_type": "code",
      "source": [
        "print(max(li))"
      ],
      "metadata": {
        "colab": {
          "base_uri": "https://localhost:8080/"
        },
        "id": "OnBeq40_n6uy",
        "outputId": "d5b567e2-ac5e-4077-ffbd-4cffaf350e4c"
      },
      "execution_count": 40,
      "outputs": [
        {
          "output_type": "stream",
          "name": "stdout",
          "text": [
            "9\n"
          ]
        }
      ]
    },
    {
      "cell_type": "code",
      "source": [
        "print(sum(li))"
      ],
      "metadata": {
        "colab": {
          "base_uri": "https://localhost:8080/"
        },
        "id": "zRQ_NqQun9xU",
        "outputId": "967fa3f2-cc36-448c-bcfb-fb56b566fd74"
      },
      "execution_count": 41,
      "outputs": [
        {
          "output_type": "stream",
          "name": "stdout",
          "text": [
            "45\n"
          ]
        }
      ]
    },
    {
      "cell_type": "code",
      "source": [
        "print(round(6.4))\n",
        "print(round(6.9))\n"
      ],
      "metadata": {
        "colab": {
          "base_uri": "https://localhost:8080/"
        },
        "id": "2_4QHKECoCci",
        "outputId": "c728af4e-0070-4e87-82ba-21ca4b8485b5"
      },
      "execution_count": 42,
      "outputs": [
        {
          "output_type": "stream",
          "name": "stdout",
          "text": [
            "6\n",
            "7\n"
          ]
        }
      ]
    },
    {
      "cell_type": "code",
      "source": [
        "super(type(5.6))"
      ],
      "metadata": {
        "colab": {
          "base_uri": "https://localhost:8080/"
        },
        "id": "Uza2h55poMRW",
        "outputId": "2b96a4eb-80f8-489a-9cdb-85656e5eb827"
      },
      "execution_count": 44,
      "outputs": [
        {
          "output_type": "execute_result",
          "data": {
            "text/plain": [
              "<super: float, None>"
            ]
          },
          "metadata": {},
          "execution_count": 44
        }
      ]
    },
    {
      "cell_type": "code",
      "source": [
        " #functions\n",
        "def fruit(store=\"Mango\"):\n",
        "    #print(\"fruits are\",fruit(\"\"),\"ok?\") # Infinite call :)"
      ],
      "metadata": {
        "id": "JTWyILDJxI2G"
      },
      "execution_count": 47,
      "outputs": []
    },
    {
      "cell_type": "code",
      "source": [
        "fruit()"
      ],
      "metadata": {
        "colab": {
          "base_uri": "https://localhost:8080/",
          "height": 311
        },
        "id": "qBBKbMnE2lOq",
        "outputId": "55faaad7-2910-464b-fd4e-438f77e3e295"
      },
      "execution_count": 48,
      "outputs": [
        {
          "output_type": "error",
          "ename": "RecursionError",
          "evalue": "ignored",
          "traceback": [
            "\u001b[0;31m---------------------------------------------------------------------------\u001b[0m",
            "\u001b[0;31mRecursionError\u001b[0m                            Traceback (most recent call last)",
            "\u001b[0;32m<ipython-input-48-b4e064f869e8>\u001b[0m in \u001b[0;36m<module>\u001b[0;34m\u001b[0m\n\u001b[0;32m----> 1\u001b[0;31m \u001b[0mfruit\u001b[0m\u001b[0;34m(\u001b[0m\u001b[0;34m)\u001b[0m\u001b[0;34m\u001b[0m\u001b[0;34m\u001b[0m\u001b[0m\n\u001b[0m",
            "\u001b[0;32m<ipython-input-47-d0c450c0df3c>\u001b[0m in \u001b[0;36mfruit\u001b[0;34m(store)\u001b[0m\n\u001b[1;32m      1\u001b[0m \u001b[0;31m#functions\u001b[0m\u001b[0;34m\u001b[0m\u001b[0;34m\u001b[0m\u001b[0;34m\u001b[0m\u001b[0m\n\u001b[1;32m      2\u001b[0m \u001b[0;32mdef\u001b[0m \u001b[0mfruit\u001b[0m\u001b[0;34m(\u001b[0m\u001b[0mstore\u001b[0m\u001b[0;34m=\u001b[0m\u001b[0;34m\"Mango\"\u001b[0m\u001b[0;34m)\u001b[0m\u001b[0;34m:\u001b[0m\u001b[0;34m\u001b[0m\u001b[0;34m\u001b[0m\u001b[0m\n\u001b[0;32m----> 3\u001b[0;31m    \u001b[0mprint\u001b[0m\u001b[0;34m(\u001b[0m\u001b[0;34m\"fruits are\"\u001b[0m\u001b[0;34m,\u001b[0m\u001b[0mfruit\u001b[0m\u001b[0;34m(\u001b[0m\u001b[0;34m\"\"\u001b[0m\u001b[0;34m)\u001b[0m\u001b[0;34m,\u001b[0m\u001b[0;34m\"ok?\"\u001b[0m\u001b[0;34m)\u001b[0m\u001b[0;34m\u001b[0m\u001b[0;34m\u001b[0m\u001b[0m\n\u001b[0m",
            "... last 1 frames repeated, from the frame below ...\n",
            "\u001b[0;32m<ipython-input-47-d0c450c0df3c>\u001b[0m in \u001b[0;36mfruit\u001b[0;34m(store)\u001b[0m\n\u001b[1;32m      1\u001b[0m \u001b[0;31m#functions\u001b[0m\u001b[0;34m\u001b[0m\u001b[0;34m\u001b[0m\u001b[0;34m\u001b[0m\u001b[0m\n\u001b[1;32m      2\u001b[0m \u001b[0;32mdef\u001b[0m \u001b[0mfruit\u001b[0m\u001b[0;34m(\u001b[0m\u001b[0mstore\u001b[0m\u001b[0;34m=\u001b[0m\u001b[0;34m\"Mango\"\u001b[0m\u001b[0;34m)\u001b[0m\u001b[0;34m:\u001b[0m\u001b[0;34m\u001b[0m\u001b[0;34m\u001b[0m\u001b[0m\n\u001b[0;32m----> 3\u001b[0;31m    \u001b[0mprint\u001b[0m\u001b[0;34m(\u001b[0m\u001b[0;34m\"fruits are\"\u001b[0m\u001b[0;34m,\u001b[0m\u001b[0mfruit\u001b[0m\u001b[0;34m(\u001b[0m\u001b[0;34m\"\"\u001b[0m\u001b[0;34m)\u001b[0m\u001b[0;34m,\u001b[0m\u001b[0;34m\"ok?\"\u001b[0m\u001b[0;34m)\u001b[0m\u001b[0;34m\u001b[0m\u001b[0;34m\u001b[0m\u001b[0m\n\u001b[0m",
            "\u001b[0;31mRecursionError\u001b[0m: maximum recursion depth exceeded"
          ]
        }
      ]
    },
    {
      "cell_type": "code",
      "source": [
        "def funct():\n",
        "    print(\"This is a function\")\n",
        "funct() # function call"
      ],
      "metadata": {
        "colab": {
          "base_uri": "https://localhost:8080/"
        },
        "id": "mqWGec-z2mpZ",
        "outputId": "e947b509-1060-4c34-94cb-4a223040eff9"
      },
      "execution_count": 49,
      "outputs": [
        {
          "output_type": "stream",
          "name": "stdout",
          "text": [
            "This is a function\n"
          ]
        }
      ]
    },
    {
      "cell_type": "code",
      "source": [
        "def funct(num):\n",
        "    print(f\"this function has {num}\")\n",
        "funct(1)"
      ],
      "metadata": {
        "colab": {
          "base_uri": "https://localhost:8080/"
        },
        "id": "rjRlhHK32-EO",
        "outputId": "ab4be6c5-55a1-4c72-c04e-c64cbaa647e0"
      },
      "execution_count": 52,
      "outputs": [
        {
          "output_type": "stream",
          "name": "stdout",
          "text": [
            "this function has 1\n"
          ]
        }
      ]
    },
    {
      "cell_type": "code",
      "source": [
        "def area(radius):\n",
        "    return 3.14*(radius**2)\n",
        "area(3)"
      ],
      "metadata": {
        "colab": {
          "base_uri": "https://localhost:8080/"
        },
        "id": "R1TWibtd3I83",
        "outputId": "7e47d9d2-0693-4ac4-ae48-286ec85a1498"
      },
      "execution_count": 53,
      "outputs": [
        {
          "output_type": "execute_result",
          "data": {
            "text/plain": [
              "28.26"
            ]
          },
          "metadata": {},
          "execution_count": 53
        }
      ]
    },
    {
      "cell_type": "code",
      "source": [
        "x=20\n",
        "def f():\n",
        "    global x # accessing global variable x\n",
        "    x+=10\n",
        "    print(f\"Global var X in function  {x} \")\n",
        "print(f\"X outside function {x}\")\n",
        "f()"
      ],
      "metadata": {
        "colab": {
          "base_uri": "https://localhost:8080/"
        },
        "id": "Xl-1qeso3ZkC",
        "outputId": "002e2a61-b012-4119-c6eb-e81ad1359333"
      },
      "execution_count": 55,
      "outputs": [
        {
          "output_type": "stream",
          "name": "stdout",
          "text": [
            "X outside function 20\n",
            "Global var X in function  30 \n"
          ]
        }
      ]
    },
    {
      "cell_type": "code",
      "source": [
        "def f():\n",
        "  pass"
      ],
      "metadata": {
        "id": "8oOHE8pH36E_"
      },
      "execution_count": 56,
      "outputs": []
    },
    {
      "cell_type": "code",
      "source": [
        "x=input(\"Enter your age\")\n",
        "print(type(x))\n",
        "# why type is str"
      ],
      "metadata": {
        "colab": {
          "base_uri": "https://localhost:8080/"
        },
        "id": "bezs5NKX5ZLE",
        "outputId": "3dd91f4e-5d5a-4427-f634-5294754ceda7"
      },
      "execution_count": 57,
      "outputs": [
        {
          "output_type": "stream",
          "name": "stdout",
          "text": [
            "Enter your age20\n",
            "<class 'str'>\n"
          ]
        }
      ]
    },
    {
      "cell_type": "code",
      "source": [
        "x=int(input(\"Enter your age\"))\n",
        "print(type(x))"
      ],
      "metadata": {
        "colab": {
          "base_uri": "https://localhost:8080/"
        },
        "id": "vECAtWeY8-US",
        "outputId": "03e88c2e-63b1-471d-c16b-0944dbc94478"
      },
      "execution_count": 58,
      "outputs": [
        {
          "output_type": "stream",
          "name": "stdout",
          "text": [
            "Enter your age20\n",
            "<class 'int'>\n"
          ]
        }
      ]
    },
    {
      "cell_type": "code",
      "source": [
        "y=input() # this function is part of python 3.6\n",
        "print(y)"
      ],
      "metadata": {
        "colab": {
          "base_uri": "https://localhost:8080/"
        },
        "id": "OpVNRx2C9JlV",
        "outputId": "cdbe978a-5cfd-44c1-f94e-ba7b9a48748b"
      },
      "execution_count": 59,
      "outputs": [
        {
          "output_type": "stream",
          "name": "stdout",
          "text": [
            "i love me\n",
            "i love me\n"
          ]
        }
      ]
    },
    {
      "cell_type": "code",
      "source": [
        "# in 2.7 version there is raw_input() function for input\n"
      ],
      "metadata": {
        "id": "39FGVERf9PJX"
      },
      "execution_count": 60,
      "outputs": []
    },
    {
      "cell_type": "code",
      "source": [
        "## DATA TYPE\n"
      ],
      "metadata": {
        "id": "t_1EyfNn9gKg"
      },
      "execution_count": 61,
      "outputs": []
    },
    {
      "cell_type": "code",
      "source": [
        "x=5\n",
        "#y=122L long in deprecated in py3\n",
        "y=complex(2,4) # 2+4i complex number\n",
        "print(type(x),type(y))"
      ],
      "metadata": {
        "colab": {
          "base_uri": "https://localhost:8080/"
        },
        "id": "QLlAtEzP9zr-",
        "outputId": "d43507c8-a6d3-49d2-f71d-a8e5a5292d42"
      },
      "execution_count": 62,
      "outputs": [
        {
          "output_type": "stream",
          "name": "stdout",
          "text": [
            "<class 'int'> <class 'complex'>\n"
          ]
        }
      ]
    },
    {
      "cell_type": "code",
      "source": [
        "#random module\n",
        "import random as rd\n",
        "print(rd.randrange(1,20))#print random number from 1 to 20"
      ],
      "metadata": {
        "colab": {
          "base_uri": "https://localhost:8080/"
        },
        "id": "wVm_J6y1-FL9",
        "outputId": "547e0cff-facd-46fd-eab3-f2d6b57ec9d6"
      },
      "execution_count": 63,
      "outputs": [
        {
          "output_type": "stream",
          "name": "stdout",
          "text": [
            "3\n"
          ]
        }
      ]
    },
    {
      "cell_type": "code",
      "source": [
        "print(rd.randrange(1,20))#print random number from 1 to 20\n",
        "print(rd.randrange(1,20))#print random number from 1 to 20\n",
        "print(rd.randrange(1,20))#print random number from 1 to 20\n",
        "print(rd.randrange(1,20))#print random number from 1 to 20\n"
      ],
      "metadata": {
        "colab": {
          "base_uri": "https://localhost:8080/"
        },
        "id": "7RU-dpA__VN0",
        "outputId": "61d6decc-e7df-480d-89f8-e1838ba84866"
      },
      "execution_count": 64,
      "outputs": [
        {
          "output_type": "stream",
          "name": "stdout",
          "text": [
            "3\n",
            "19\n",
            "10\n",
            "1\n"
          ]
        }
      ]
    },
    {
      "cell_type": "code",
      "source": [],
      "metadata": {
        "id": "clayRFoO_Ye4"
      },
      "execution_count": null,
      "outputs": []
    }
  ]
}